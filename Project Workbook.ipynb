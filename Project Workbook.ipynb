{
 "cells": [
  {
   "cell_type": "markdown",
   "id": "deaf54f8",
   "metadata": {},
   "source": [
    "# NBA All-Star Prediction"
   ]
  },
  {
   "cell_type": "code",
   "execution_count": 138,
   "id": "47a62064",
   "metadata": {},
   "outputs": [],
   "source": [
    "import pandas as pd\n",
    "import numpy as np\n",
    "import matplotlib.pyplot as plt\n",
    "import seaborn as sns"
   ]
  },
  {
   "cell_type": "markdown",
   "id": "20673e51",
   "metadata": {},
   "source": [
    "### Data Source #1"
   ]
  },
  {
   "cell_type": "code",
   "execution_count": 139,
   "id": "7dbf87e7",
   "metadata": {},
   "outputs": [],
   "source": [
    "df_2021 = pd.read_excel(\"C:/Users/14699/nba-allstar-prediction/2020-2021.xlsx\", index_col=0)"
   ]
  },
  {
   "cell_type": "markdown",
   "id": "43b0f131",
   "metadata": {},
   "source": [
    "Here we are exploring the dataset, looking at the available features and getting a sense of what data lies within the dataframe"
   ]
  },
  {
   "cell_type": "code",
   "execution_count": 140,
   "id": "3b8f5e74",
   "metadata": {},
   "outputs": [
    {
     "data": {
      "text/html": [
       "<div>\n",
       "<style scoped>\n",
       "    .dataframe tbody tr th:only-of-type {\n",
       "        vertical-align: middle;\n",
       "    }\n",
       "\n",
       "    .dataframe tbody tr th {\n",
       "        vertical-align: top;\n",
       "    }\n",
       "\n",
       "    .dataframe thead th {\n",
       "        text-align: right;\n",
       "    }\n",
       "</style>\n",
       "<table border=\"1\" class=\"dataframe\">\n",
       "  <thead>\n",
       "    <tr style=\"text-align: right;\">\n",
       "      <th></th>\n",
       "      <th>Player</th>\n",
       "      <th>Age</th>\n",
       "      <th>Team</th>\n",
       "      <th>Pos</th>\n",
       "      <th>G</th>\n",
       "      <th>GS</th>\n",
       "      <th>MP</th>\n",
       "      <th>FG</th>\n",
       "      <th>FGA</th>\n",
       "      <th>FG%</th>\n",
       "      <th>...</th>\n",
       "      <th>ORB</th>\n",
       "      <th>DRB</th>\n",
       "      <th>TRB</th>\n",
       "      <th>AST</th>\n",
       "      <th>STL</th>\n",
       "      <th>BLK</th>\n",
       "      <th>TOV</th>\n",
       "      <th>PF</th>\n",
       "      <th>PTS</th>\n",
       "      <th>Awards</th>\n",
       "    </tr>\n",
       "    <tr>\n",
       "      <th>Rk</th>\n",
       "      <th></th>\n",
       "      <th></th>\n",
       "      <th></th>\n",
       "      <th></th>\n",
       "      <th></th>\n",
       "      <th></th>\n",
       "      <th></th>\n",
       "      <th></th>\n",
       "      <th></th>\n",
       "      <th></th>\n",
       "      <th></th>\n",
       "      <th></th>\n",
       "      <th></th>\n",
       "      <th></th>\n",
       "      <th></th>\n",
       "      <th></th>\n",
       "      <th></th>\n",
       "      <th></th>\n",
       "      <th></th>\n",
       "      <th></th>\n",
       "      <th></th>\n",
       "    </tr>\n",
       "  </thead>\n",
       "  <tbody>\n",
       "    <tr>\n",
       "      <th>1</th>\n",
       "      <td>Stephen Curry</td>\n",
       "      <td>32</td>\n",
       "      <td>GSW</td>\n",
       "      <td>PG</td>\n",
       "      <td>63</td>\n",
       "      <td>63</td>\n",
       "      <td>34.2</td>\n",
       "      <td>10.4</td>\n",
       "      <td>21.7</td>\n",
       "      <td>0.482</td>\n",
       "      <td>...</td>\n",
       "      <td>0.5</td>\n",
       "      <td>5.0</td>\n",
       "      <td>5.5</td>\n",
       "      <td>5.8</td>\n",
       "      <td>1.2</td>\n",
       "      <td>0.1</td>\n",
       "      <td>3.4</td>\n",
       "      <td>1.9</td>\n",
       "      <td>32.0</td>\n",
       "      <td>MVP-3,AS,NBA1</td>\n",
       "    </tr>\n",
       "    <tr>\n",
       "      <th>2</th>\n",
       "      <td>Bradley Beal</td>\n",
       "      <td>27</td>\n",
       "      <td>WAS</td>\n",
       "      <td>SG</td>\n",
       "      <td>60</td>\n",
       "      <td>60</td>\n",
       "      <td>35.8</td>\n",
       "      <td>11.2</td>\n",
       "      <td>23.0</td>\n",
       "      <td>0.485</td>\n",
       "      <td>...</td>\n",
       "      <td>1.2</td>\n",
       "      <td>3.5</td>\n",
       "      <td>4.7</td>\n",
       "      <td>4.4</td>\n",
       "      <td>1.2</td>\n",
       "      <td>0.4</td>\n",
       "      <td>3.1</td>\n",
       "      <td>2.3</td>\n",
       "      <td>31.3</td>\n",
       "      <td>AS,NBA3</td>\n",
       "    </tr>\n",
       "    <tr>\n",
       "      <th>3</th>\n",
       "      <td>Damian Lillard</td>\n",
       "      <td>30</td>\n",
       "      <td>POR</td>\n",
       "      <td>PG</td>\n",
       "      <td>67</td>\n",
       "      <td>67</td>\n",
       "      <td>35.8</td>\n",
       "      <td>9.0</td>\n",
       "      <td>19.9</td>\n",
       "      <td>0.451</td>\n",
       "      <td>...</td>\n",
       "      <td>0.5</td>\n",
       "      <td>3.7</td>\n",
       "      <td>4.2</td>\n",
       "      <td>7.5</td>\n",
       "      <td>0.9</td>\n",
       "      <td>0.3</td>\n",
       "      <td>3.0</td>\n",
       "      <td>1.5</td>\n",
       "      <td>28.8</td>\n",
       "      <td>MVP-7,AS,NBA2</td>\n",
       "    </tr>\n",
       "    <tr>\n",
       "      <th>4</th>\n",
       "      <td>Joel Embiid</td>\n",
       "      <td>26</td>\n",
       "      <td>PHI</td>\n",
       "      <td>C</td>\n",
       "      <td>51</td>\n",
       "      <td>51</td>\n",
       "      <td>31.1</td>\n",
       "      <td>9.0</td>\n",
       "      <td>17.6</td>\n",
       "      <td>0.513</td>\n",
       "      <td>...</td>\n",
       "      <td>2.2</td>\n",
       "      <td>8.4</td>\n",
       "      <td>10.6</td>\n",
       "      <td>2.8</td>\n",
       "      <td>1.0</td>\n",
       "      <td>1.4</td>\n",
       "      <td>3.1</td>\n",
       "      <td>2.4</td>\n",
       "      <td>28.5</td>\n",
       "      <td>MVP-2,DPOY-7,AS,NBA2</td>\n",
       "    </tr>\n",
       "    <tr>\n",
       "      <th>5</th>\n",
       "      <td>Giannis Antetokounmpo</td>\n",
       "      <td>26</td>\n",
       "      <td>MIL</td>\n",
       "      <td>PF</td>\n",
       "      <td>61</td>\n",
       "      <td>61</td>\n",
       "      <td>33.0</td>\n",
       "      <td>10.3</td>\n",
       "      <td>18.0</td>\n",
       "      <td>0.569</td>\n",
       "      <td>...</td>\n",
       "      <td>1.6</td>\n",
       "      <td>9.4</td>\n",
       "      <td>11.0</td>\n",
       "      <td>5.9</td>\n",
       "      <td>1.2</td>\n",
       "      <td>1.2</td>\n",
       "      <td>3.4</td>\n",
       "      <td>2.8</td>\n",
       "      <td>28.1</td>\n",
       "      <td>MVP-4,DPOY-5,AS,NBA1</td>\n",
       "    </tr>\n",
       "  </tbody>\n",
       "</table>\n",
       "<p>5 rows × 30 columns</p>\n",
       "</div>"
      ],
      "text/plain": [
       "                   Player  Age Team Pos   G  GS    MP    FG   FGA    FG%  ...  \\\n",
       "Rk                                                                        ...   \n",
       "1           Stephen Curry   32  GSW  PG  63  63  34.2  10.4  21.7  0.482  ...   \n",
       "2            Bradley Beal   27  WAS  SG  60  60  35.8  11.2  23.0  0.485  ...   \n",
       "3          Damian Lillard   30  POR  PG  67  67  35.8   9.0  19.9  0.451  ...   \n",
       "4             Joel Embiid   26  PHI   C  51  51  31.1   9.0  17.6  0.513  ...   \n",
       "5   Giannis Antetokounmpo   26  MIL  PF  61  61  33.0  10.3  18.0  0.569  ...   \n",
       "\n",
       "    ORB  DRB   TRB  AST  STL  BLK  TOV   PF   PTS                Awards  \n",
       "Rk                                                                       \n",
       "1   0.5  5.0   5.5  5.8  1.2  0.1  3.4  1.9  32.0         MVP-3,AS,NBA1  \n",
       "2   1.2  3.5   4.7  4.4  1.2  0.4  3.1  2.3  31.3               AS,NBA3  \n",
       "3   0.5  3.7   4.2  7.5  0.9  0.3  3.0  1.5  28.8         MVP-7,AS,NBA2  \n",
       "4   2.2  8.4  10.6  2.8  1.0  1.4  3.1  2.4  28.5  MVP-2,DPOY-7,AS,NBA2  \n",
       "5   1.6  9.4  11.0  5.9  1.2  1.2  3.4  2.8  28.1  MVP-4,DPOY-5,AS,NBA1  \n",
       "\n",
       "[5 rows x 30 columns]"
      ]
     },
     "execution_count": 140,
     "metadata": {},
     "output_type": "execute_result"
    }
   ],
   "source": [
    "df_2021.head()"
   ]
  },
  {
   "cell_type": "code",
   "execution_count": 141,
   "id": "e9d1501a",
   "metadata": {},
   "outputs": [
    {
     "data": {
      "text/plain": [
       "Index(['Player', 'Age', 'Team', 'Pos', 'G', 'GS', 'MP', 'FG', 'FGA', 'FG%',\n",
       "       '3P', '3PA', '3P%', '2P', '2PA', '2P%', 'eFG%', 'FT', 'FTA', 'FT%',\n",
       "       'ORB', 'DRB', 'TRB', 'AST', 'STL', 'BLK', 'TOV', 'PF', 'PTS', 'Awards'],\n",
       "      dtype='object')"
      ]
     },
     "execution_count": 141,
     "metadata": {},
     "output_type": "execute_result"
    }
   ],
   "source": [
    "df_2021.columns"
   ]
  },
  {
   "cell_type": "markdown",
   "id": "c8f87859",
   "metadata": {},
   "source": [
    "Here we are creating our target feature, All-Star selection. Since the original dataset had all awards listed within a single column, we can create a binary column for All-Star selection."
   ]
  },
  {
   "cell_type": "code",
   "execution_count": 142,
   "id": "95925e68",
   "metadata": {},
   "outputs": [],
   "source": [
    "df_2021['AllStar'] = df_2021['Awards'].apply(lambda x: 1 if 'AS' in str(x) else 0)"
   ]
  },
  {
   "cell_type": "markdown",
   "id": "66c6b3a0",
   "metadata": {},
   "source": [
    "Here we are verifying that the changes have been applied correctly."
   ]
  },
  {
   "cell_type": "code",
   "execution_count": 143,
   "id": "5f101f2e",
   "metadata": {},
   "outputs": [
    {
     "data": {
      "text/html": [
       "<div>\n",
       "<style scoped>\n",
       "    .dataframe tbody tr th:only-of-type {\n",
       "        vertical-align: middle;\n",
       "    }\n",
       "\n",
       "    .dataframe tbody tr th {\n",
       "        vertical-align: top;\n",
       "    }\n",
       "\n",
       "    .dataframe thead th {\n",
       "        text-align: right;\n",
       "    }\n",
       "</style>\n",
       "<table border=\"1\" class=\"dataframe\">\n",
       "  <thead>\n",
       "    <tr style=\"text-align: right;\">\n",
       "      <th></th>\n",
       "      <th>Player</th>\n",
       "      <th>Age</th>\n",
       "      <th>Team</th>\n",
       "      <th>Pos</th>\n",
       "      <th>G</th>\n",
       "      <th>GS</th>\n",
       "      <th>MP</th>\n",
       "      <th>FG</th>\n",
       "      <th>FGA</th>\n",
       "      <th>FG%</th>\n",
       "      <th>...</th>\n",
       "      <th>DRB</th>\n",
       "      <th>TRB</th>\n",
       "      <th>AST</th>\n",
       "      <th>STL</th>\n",
       "      <th>BLK</th>\n",
       "      <th>TOV</th>\n",
       "      <th>PF</th>\n",
       "      <th>PTS</th>\n",
       "      <th>Awards</th>\n",
       "      <th>AllStar</th>\n",
       "    </tr>\n",
       "    <tr>\n",
       "      <th>Rk</th>\n",
       "      <th></th>\n",
       "      <th></th>\n",
       "      <th></th>\n",
       "      <th></th>\n",
       "      <th></th>\n",
       "      <th></th>\n",
       "      <th></th>\n",
       "      <th></th>\n",
       "      <th></th>\n",
       "      <th></th>\n",
       "      <th></th>\n",
       "      <th></th>\n",
       "      <th></th>\n",
       "      <th></th>\n",
       "      <th></th>\n",
       "      <th></th>\n",
       "      <th></th>\n",
       "      <th></th>\n",
       "      <th></th>\n",
       "      <th></th>\n",
       "      <th></th>\n",
       "    </tr>\n",
       "  </thead>\n",
       "  <tbody>\n",
       "    <tr>\n",
       "      <th>381</th>\n",
       "      <td>Gabe Vincent</td>\n",
       "      <td>24</td>\n",
       "      <td>MIA</td>\n",
       "      <td>PG</td>\n",
       "      <td>50</td>\n",
       "      <td>7</td>\n",
       "      <td>13.1</td>\n",
       "      <td>1.8</td>\n",
       "      <td>4.7</td>\n",
       "      <td>0.378</td>\n",
       "      <td>...</td>\n",
       "      <td>0.9</td>\n",
       "      <td>1.1</td>\n",
       "      <td>1.3</td>\n",
       "      <td>0.4</td>\n",
       "      <td>0.0</td>\n",
       "      <td>0.7</td>\n",
       "      <td>1.6</td>\n",
       "      <td>4.8</td>\n",
       "      <td>NaN</td>\n",
       "      <td>0</td>\n",
       "    </tr>\n",
       "    <tr>\n",
       "      <th>382</th>\n",
       "      <td>Damian Jones</td>\n",
       "      <td>25</td>\n",
       "      <td>3TM</td>\n",
       "      <td>C</td>\n",
       "      <td>39</td>\n",
       "      <td>10</td>\n",
       "      <td>14.0</td>\n",
       "      <td>1.8</td>\n",
       "      <td>2.6</td>\n",
       "      <td>0.680</td>\n",
       "      <td>...</td>\n",
       "      <td>2.2</td>\n",
       "      <td>3.1</td>\n",
       "      <td>0.7</td>\n",
       "      <td>0.3</td>\n",
       "      <td>0.7</td>\n",
       "      <td>0.7</td>\n",
       "      <td>2.0</td>\n",
       "      <td>4.7</td>\n",
       "      <td>NaN</td>\n",
       "      <td>0</td>\n",
       "    </tr>\n",
       "    <tr>\n",
       "      <th>382</th>\n",
       "      <td>Damian Jones</td>\n",
       "      <td>25</td>\n",
       "      <td>PHO</td>\n",
       "      <td>C</td>\n",
       "      <td>14</td>\n",
       "      <td>0</td>\n",
       "      <td>6.7</td>\n",
       "      <td>0.6</td>\n",
       "      <td>1.1</td>\n",
       "      <td>0.500</td>\n",
       "      <td>...</td>\n",
       "      <td>0.8</td>\n",
       "      <td>1.3</td>\n",
       "      <td>0.3</td>\n",
       "      <td>0.1</td>\n",
       "      <td>0.4</td>\n",
       "      <td>0.4</td>\n",
       "      <td>1.4</td>\n",
       "      <td>1.6</td>\n",
       "      <td>NaN</td>\n",
       "      <td>0</td>\n",
       "    </tr>\n",
       "    <tr>\n",
       "      <th>382</th>\n",
       "      <td>Damian Jones</td>\n",
       "      <td>25</td>\n",
       "      <td>LAL</td>\n",
       "      <td>C</td>\n",
       "      <td>8</td>\n",
       "      <td>6</td>\n",
       "      <td>14.0</td>\n",
       "      <td>2.0</td>\n",
       "      <td>2.1</td>\n",
       "      <td>0.941</td>\n",
       "      <td>...</td>\n",
       "      <td>2.3</td>\n",
       "      <td>3.3</td>\n",
       "      <td>0.1</td>\n",
       "      <td>0.1</td>\n",
       "      <td>0.9</td>\n",
       "      <td>0.6</td>\n",
       "      <td>2.8</td>\n",
       "      <td>5.4</td>\n",
       "      <td>NaN</td>\n",
       "      <td>0</td>\n",
       "    </tr>\n",
       "    <tr>\n",
       "      <th>382</th>\n",
       "      <td>Damian Jones</td>\n",
       "      <td>25</td>\n",
       "      <td>SAC</td>\n",
       "      <td>C</td>\n",
       "      <td>17</td>\n",
       "      <td>4</td>\n",
       "      <td>20.1</td>\n",
       "      <td>2.7</td>\n",
       "      <td>4.1</td>\n",
       "      <td>0.657</td>\n",
       "      <td>...</td>\n",
       "      <td>3.3</td>\n",
       "      <td>4.5</td>\n",
       "      <td>1.4</td>\n",
       "      <td>0.5</td>\n",
       "      <td>1.0</td>\n",
       "      <td>0.9</td>\n",
       "      <td>2.1</td>\n",
       "      <td>6.9</td>\n",
       "      <td>NaN</td>\n",
       "      <td>0</td>\n",
       "    </tr>\n",
       "  </tbody>\n",
       "</table>\n",
       "<p>5 rows × 31 columns</p>\n",
       "</div>"
      ],
      "text/plain": [
       "           Player  Age Team Pos   G  GS    MP   FG  FGA    FG%  ...  DRB  TRB  \\\n",
       "Rk                                                              ...             \n",
       "381  Gabe Vincent   24  MIA  PG  50   7  13.1  1.8  4.7  0.378  ...  0.9  1.1   \n",
       "382  Damian Jones   25  3TM   C  39  10  14.0  1.8  2.6  0.680  ...  2.2  3.1   \n",
       "382  Damian Jones   25  PHO   C  14   0   6.7  0.6  1.1  0.500  ...  0.8  1.3   \n",
       "382  Damian Jones   25  LAL   C   8   6  14.0  2.0  2.1  0.941  ...  2.3  3.3   \n",
       "382  Damian Jones   25  SAC   C  17   4  20.1  2.7  4.1  0.657  ...  3.3  4.5   \n",
       "\n",
       "     AST  STL  BLK  TOV   PF  PTS  Awards  AllStar  \n",
       "Rk                                                  \n",
       "381  1.3  0.4  0.0  0.7  1.6  4.8     NaN        0  \n",
       "382  0.7  0.3  0.7  0.7  2.0  4.7     NaN        0  \n",
       "382  0.3  0.1  0.4  0.4  1.4  1.6     NaN        0  \n",
       "382  0.1  0.1  0.9  0.6  2.8  5.4     NaN        0  \n",
       "382  1.4  0.5  1.0  0.9  2.1  6.9     NaN        0  \n",
       "\n",
       "[5 rows x 31 columns]"
      ]
     },
     "execution_count": 143,
     "metadata": {},
     "output_type": "execute_result"
    }
   ],
   "source": [
    "df_2021.tail()"
   ]
  },
  {
   "cell_type": "code",
   "execution_count": 144,
   "id": "7324b3bc",
   "metadata": {},
   "outputs": [
    {
     "data": {
      "text/plain": [
       "(500, 31)"
      ]
     },
     "execution_count": 144,
     "metadata": {},
     "output_type": "execute_result"
    }
   ],
   "source": [
    "df_2021.shape"
   ]
  },
  {
   "cell_type": "markdown",
   "id": "ce46f0c5",
   "metadata": {},
   "source": [
    "Here we are starting to clean the dataset by dropping unimportant features."
   ]
  },
  {
   "cell_type": "code",
   "execution_count": 145,
   "id": "a2f2c725",
   "metadata": {},
   "outputs": [],
   "source": [
    "df_2021 = df_2021.drop(columns=['Age','ORB','DRB','FGA','3PA','2PA','FTA','Pos','PF'])"
   ]
  },
  {
   "cell_type": "code",
   "execution_count": 146,
   "id": "83a9980e",
   "metadata": {},
   "outputs": [
    {
     "data": {
      "text/plain": [
       "Index(['Player', 'Team', 'G', 'GS', 'MP', 'FG', 'FG%', '3P', '3P%', '2P',\n",
       "       '2P%', 'eFG%', 'FT', 'FT%', 'TRB', 'AST', 'STL', 'BLK', 'TOV', 'PTS',\n",
       "       'Awards', 'AllStar'],\n",
       "      dtype='object')"
      ]
     },
     "execution_count": 146,
     "metadata": {},
     "output_type": "execute_result"
    }
   ],
   "source": [
    "df_2021.columns"
   ]
  },
  {
   "cell_type": "markdown",
   "id": "5db1e096",
   "metadata": {},
   "source": [
    "Now we have gotten rid of features that can't affect All-Star selection:\n",
    "\n",
    "* age\n",
    "* number of offensive and defensive rebounds (feature containing number of total rebounds remains in the dataset)\n",
    "* number of attempted 3-point field goals, 2-point field goals, and free throws\n",
    "* position\n",
    "* number of fouls"
   ]
  },
  {
   "cell_type": "markdown",
   "id": "b5dec2be",
   "metadata": {},
   "source": [
    "Now we are going to clean the target features up a little bit. There are multiple rows for many players due to them changing teams as a result of a trade. We must give each player only one row."
   ]
  },
  {
   "cell_type": "code",
   "execution_count": 147,
   "id": "2e24f930",
   "metadata": {},
   "outputs": [],
   "source": [
    "# Identifying players with multiple entries\n",
    "multiple_team_entries_2021 = df_2021[df_2021['Team'].str.contains('TM')]\n",
    "\n",
    "# Grabbing list of players who have aggregated rows (Team name is listed as 2TM or 3TM)\n",
    "players_with_multiple_teams_2021 = multiple_team_entries_2021['Player'].unique()\n",
    "\n",
    "# Keep only the aggregated rows\n",
    "df_2021_cleaned = df_2021[(df_2021['Player'].isin(players_with_multiple_teams_2021)) & \n",
    "                          (df_2021['Team'].str.contains('TM'))]\n",
    "\n",
    "# Include players with single entries\n",
    "single_team_players_2021 = df_2021[~df_2021['Player'].isin(players_with_multiple_teams_2021)]\n",
    "\n",
    "# Combine our dataframes\n",
    "df_2021 = pd.concat([df_2021_cleaned, single_team_players_2021], ignore_index=True)"
   ]
  },
  {
   "cell_type": "markdown",
   "id": "65586c71",
   "metadata": {},
   "source": [
    "In order to determine which features affect All-Star selection, we can create some visualizations."
   ]
  },
  {
   "cell_type": "code",
   "execution_count": 148,
   "id": "d3fe9604",
   "metadata": {},
   "outputs": [],
   "source": [
    "df_2021 = df_2021.drop(columns='Awards')"
   ]
  },
  {
   "cell_type": "code",
   "execution_count": 149,
   "id": "7b38ca92",
   "metadata": {},
   "outputs": [
    {
     "data": {
      "text/plain": [
       "Index(['Player', 'Team', 'G', 'GS', 'MP', 'FG', 'FG%', '3P', '3P%', '2P',\n",
       "       '2P%', 'eFG%', 'FT', 'FT%', 'TRB', 'AST', 'STL', 'BLK', 'TOV', 'PTS',\n",
       "       'AllStar'],\n",
       "      dtype='object')"
      ]
     },
     "execution_count": 149,
     "metadata": {},
     "output_type": "execute_result"
    }
   ],
   "source": [
    "df_2021.columns"
   ]
  },
  {
   "cell_type": "code",
   "execution_count": 150,
   "id": "dbf6a835",
   "metadata": {},
   "outputs": [],
   "source": [
    "corr_2021 = df_2021[['G', 'GS', 'MP', 'FG', 'FG%', '3P', '3P%', '2P','2P%', 'eFG%', 'FT', 'FT%', 'TRB', 'AST', 'STL', 'BLK', 'TOV', 'PTS','AllStar']].corr()"
   ]
  },
  {
   "cell_type": "code",
   "execution_count": 151,
   "id": "0202ca55",
   "metadata": {},
   "outputs": [
    {
     "data": {
      "text/plain": [
       "<Axes: >"
      ]
     },
     "execution_count": 151,
     "metadata": {},
     "output_type": "execute_result"
    },
    {
     "data": {
      "image/png": "[encoded data removed]",
      "text/plain": [
       "<Figure size 640x480 with 2 Axes>"
      ]
     },
     "metadata": {},
     "output_type": "display_data"
    }
   ],
   "source": [
    "sns.heatmap(corr_2021, annot=True, cmap='coolwarm')"
   ]
  },
  {
   "cell_type": "markdown",
   "id": "2cdca65b",
   "metadata": {},
   "source": [
    "Based on the heatmap, we can see that All-Star selection is correlated with points, turnovers, assists, free throws, 2-point field goals, and total field goals. Given the context of how All-Star selections are truly made, these features are definitely going to be used to train the model."
   ]
  },
  {
   "cell_type": "markdown",
   "id": "335e7fdf",
   "metadata": {},
   "source": [
    "Now we are going to use basketball context to determine whether there is any visual evidence for including some important player performance features, such as rebounds, blocks, 3-point field goals, efficient field goal percentage, and steals."
   ]
  },
  {
   "cell_type": "code",
   "execution_count": 152,
   "id": "adf28127",
   "metadata": {},
   "outputs": [
    {
     "data": {
      "text/plain": [
       "<Axes: xlabel='AllStar', ylabel='TRB'>"
      ]
     },
     "execution_count": 152,
     "metadata": {},
     "output_type": "execute_result"
    },
    {
     "data": {
      "image/png": "[encoded data removed]",
      "text/plain": [
       "<Figure size 640x480 with 1 Axes>"
      ]
     },
     "metadata": {},
     "output_type": "display_data"
    }
   ],
   "source": [
    "sns.boxplot(data=df_2021, x='AllStar', y='TRB', palette='coolwarm')"
   ]
  },
  {
   "cell_type": "markdown",
   "id": "dc875089",
   "metadata": {},
   "source": [
    "Here we can see that total rebounds could potentially have some impact on determining All-Star selection."
   ]
  },
  {
   "cell_type": "code",
   "execution_count": 153,
   "id": "1a6f1843",
   "metadata": {},
   "outputs": [
    {
     "data": {
      "text/plain": [
       "<Axes: xlabel='AllStar', ylabel='BLK'>"
      ]
     },
     "execution_count": 153,
     "metadata": {},
     "output_type": "execute_result"
    },
    {
     "data": {
      "image/png": "[encoded data removed]",
      "text/plain": [
       "<Figure size 640x480 with 1 Axes>"
      ]
     },
     "metadata": {},
     "output_type": "display_data"
    }
   ],
   "source": [
    "sns.boxplot(data=df_2021, x='AllStar', y='BLK', palette='coolwarm')"
   ]
  },
  {
   "cell_type": "markdown",
   "id": "17845a33",
   "metadata": {},
   "source": [
    "Here we can see that blocks are clearly not an important feature in determining All-Star selection."
   ]
  },
  {
   "cell_type": "code",
   "execution_count": 154,
   "id": "c6b2f82f",
   "metadata": {},
   "outputs": [
    {
     "data": {
      "text/plain": [
       "<Axes: xlabel='AllStar', ylabel='3P'>"
      ]
     },
     "execution_count": 154,
     "metadata": {},
     "output_type": "execute_result"
    },
    {
     "data": {
      "image/png": "[encoded data removed]",
      "text/plain": [
       "<Figure size 640x480 with 1 Axes>"
      ]
     },
     "metadata": {},
     "output_type": "display_data"
    }
   ],
   "source": [
    "sns.boxplot(data=df_2021, x='AllStar', y='3P', palette='coolwarm')"
   ]
  },
  {
   "cell_type": "code",
   "execution_count": 155,
   "id": "b039b3ee",
   "metadata": {},
   "outputs": [
    {
     "data": {
      "text/plain": [
       "<Axes: xlabel='AllStar', ylabel='eFG%'>"
      ]
     },
     "execution_count": 155,
     "metadata": {},
     "output_type": "execute_result"
    },
    {
     "data": {
      "image/png": "[encoded data removed]",
      "text/plain": [
       "<Figure size 640x480 with 1 Axes>"
      ]
     },
     "metadata": {},
     "output_type": "display_data"
    }
   ],
   "source": [
    "sns.boxplot(data=df_2021, x='AllStar', y='eFG%', palette='coolwarm')"
   ]
  },
  {
   "cell_type": "markdown",
   "id": "c99997e0",
   "metadata": {},
   "source": [
    "Here we can see that neither 3-point field goals nor efficient field goal percentage are important features in determining All-Star selection."
   ]
  },
  {
   "cell_type": "code",
   "execution_count": 156,
   "id": "48f5218a",
   "metadata": {},
   "outputs": [
    {
     "data": {
      "text/plain": [
       "<Axes: xlabel='AllStar', ylabel='STL'>"
      ]
     },
     "execution_count": 156,
     "metadata": {},
     "output_type": "execute_result"
    },
    {
     "data": {
      "image/png": "[encoded data removed]",
      "text/plain": [
       "<Figure size 640x480 with 1 Axes>"
      ]
     },
     "metadata": {},
     "output_type": "display_data"
    }
   ],
   "source": [
    "sns.boxplot(data=df_2021, x='AllStar', y='STL', palette='coolwarm')"
   ]
  },
  {
   "cell_type": "markdown",
   "id": "f350e094",
   "metadata": {},
   "source": [
    "Here we can see that steals might have some impact on determining All-Star selection."
   ]
  },
  {
   "cell_type": "markdown",
   "id": "fc9f227a",
   "metadata": {},
   "source": [
    "Now we are separating our selected target features from the rest of the dataset."
   ]
  },
  {
   "cell_type": "code",
   "execution_count": 157,
   "id": "93139475",
   "metadata": {},
   "outputs": [],
   "source": [
    "target_features_2021 = df_2021[['Player','PTS','AST','TRB','STL','TOV','FT','2P','FG','AllStar']]"
   ]
  },
  {
   "cell_type": "code",
   "execution_count": 158,
   "id": "1cfd7035",
   "metadata": {},
   "outputs": [
    {
     "data": {
      "text/html": [
       "<div>\n",
       "<style scoped>\n",
       "    .dataframe tbody tr th:only-of-type {\n",
       "        vertical-align: middle;\n",
       "    }\n",
       "\n",
       "    .dataframe tbody tr th {\n",
       "        vertical-align: top;\n",
       "    }\n",
       "\n",
       "    .dataframe thead th {\n",
       "        text-align: right;\n",
       "    }\n",
       "</style>\n",
       "<table border=\"1\" class=\"dataframe\">\n",
       "  <thead>\n",
       "    <tr style=\"text-align: right;\">\n",
       "      <th></th>\n",
       "      <th>Player</th>\n",
       "      <th>PTS</th>\n",
       "      <th>AST</th>\n",
       "      <th>TRB</th>\n",
       "      <th>STL</th>\n",
       "      <th>TOV</th>\n",
       "      <th>FT</th>\n",
       "      <th>2P</th>\n",
       "      <th>FG</th>\n",
       "      <th>AllStar</th>\n",
       "    </tr>\n",
       "  </thead>\n",
       "  <tbody>\n",
       "    <tr>\n",
       "      <th>0</th>\n",
       "      <td>James Harden</td>\n",
       "      <td>24.6</td>\n",
       "      <td>10.8</td>\n",
       "      <td>7.9</td>\n",
       "      <td>1.2</td>\n",
       "      <td>4.0</td>\n",
       "      <td>6.3</td>\n",
       "      <td>5.0</td>\n",
       "      <td>7.8</td>\n",
       "      <td>1</td>\n",
       "    </tr>\n",
       "    <tr>\n",
       "      <th>1</th>\n",
       "      <td>Nikola Vučević</td>\n",
       "      <td>23.4</td>\n",
       "      <td>3.8</td>\n",
       "      <td>11.7</td>\n",
       "      <td>0.9</td>\n",
       "      <td>1.8</td>\n",
       "      <td>1.9</td>\n",
       "      <td>7.0</td>\n",
       "      <td>9.5</td>\n",
       "      <td>1</td>\n",
       "    </tr>\n",
       "    <tr>\n",
       "      <th>2</th>\n",
       "      <td>Caris LeVert</td>\n",
       "      <td>20.2</td>\n",
       "      <td>5.2</td>\n",
       "      <td>4.6</td>\n",
       "      <td>1.4</td>\n",
       "      <td>2.2</td>\n",
       "      <td>3.1</td>\n",
       "      <td>5.9</td>\n",
       "      <td>7.6</td>\n",
       "      <td>0</td>\n",
       "    </tr>\n",
       "    <tr>\n",
       "      <th>3</th>\n",
       "      <td>Victor Oladipo</td>\n",
       "      <td>19.8</td>\n",
       "      <td>4.6</td>\n",
       "      <td>4.8</td>\n",
       "      <td>1.4</td>\n",
       "      <td>2.5</td>\n",
       "      <td>3.2</td>\n",
       "      <td>4.8</td>\n",
       "      <td>7.1</td>\n",
       "      <td>0</td>\n",
       "    </tr>\n",
       "    <tr>\n",
       "      <th>4</th>\n",
       "      <td>Norman Powell</td>\n",
       "      <td>18.6</td>\n",
       "      <td>1.9</td>\n",
       "      <td>3.1</td>\n",
       "      <td>1.2</td>\n",
       "      <td>1.7</td>\n",
       "      <td>3.4</td>\n",
       "      <td>3.9</td>\n",
       "      <td>6.3</td>\n",
       "      <td>0</td>\n",
       "    </tr>\n",
       "  </tbody>\n",
       "</table>\n",
       "</div>"
      ],
      "text/plain": [
       "           Player   PTS   AST   TRB  STL  TOV   FT   2P   FG  AllStar\n",
       "0    James Harden  24.6  10.8   7.9  1.2  4.0  6.3  5.0  7.8        1\n",
       "1  Nikola Vučević  23.4   3.8  11.7  0.9  1.8  1.9  7.0  9.5        1\n",
       "2    Caris LeVert  20.2   5.2   4.6  1.4  2.2  3.1  5.9  7.6        0\n",
       "3  Victor Oladipo  19.8   4.6   4.8  1.4  2.5  3.2  4.8  7.1        0\n",
       "4   Norman Powell  18.6   1.9   3.1  1.2  1.7  3.4  3.9  6.3        0"
      ]
     },
     "execution_count": 158,
     "metadata": {},
     "output_type": "execute_result"
    }
   ],
   "source": [
    "target_features_2021.head()"
   ]
  },
  {
   "cell_type": "markdown",
   "id": "3301e07d",
   "metadata": {},
   "source": [
    "Now we have aggregated player data for all 381 NBA players during the 2020-2021 season. We must repeat the same data wrangling steps for the 2021-2022 and 2022-2023 seasons."
   ]
  },
  {
   "cell_type": "markdown",
   "id": "f5786668",
   "metadata": {},
   "source": [
    "### Data Source #2"
   ]
  },
  {
   "cell_type": "code",
   "execution_count": 159,
   "id": "b4b893d4",
   "metadata": {},
   "outputs": [],
   "source": [
    "df_2022 = pd.read_excel(\"C:/Users/14699/nba-allstar-prediction/2021-2022.xlsx\", index_col=0)"
   ]
  },
  {
   "cell_type": "code",
   "execution_count": 160,
   "id": "67a469cc",
   "metadata": {},
   "outputs": [
    {
     "data": {
      "text/html": [
       "<div>\n",
       "<style scoped>\n",
       "    .dataframe tbody tr th:only-of-type {\n",
       "        vertical-align: middle;\n",
       "    }\n",
       "\n",
       "    .dataframe tbody tr th {\n",
       "        vertical-align: top;\n",
       "    }\n",
       "\n",
       "    .dataframe thead th {\n",
       "        text-align: right;\n",
       "    }\n",
       "</style>\n",
       "<table border=\"1\" class=\"dataframe\">\n",
       "  <thead>\n",
       "    <tr style=\"text-align: right;\">\n",
       "      <th></th>\n",
       "      <th>Player</th>\n",
       "      <th>Age</th>\n",
       "      <th>Team</th>\n",
       "      <th>Pos</th>\n",
       "      <th>G</th>\n",
       "      <th>GS</th>\n",
       "      <th>MP</th>\n",
       "      <th>FG</th>\n",
       "      <th>FGA</th>\n",
       "      <th>FG%</th>\n",
       "      <th>...</th>\n",
       "      <th>ORB</th>\n",
       "      <th>DRB</th>\n",
       "      <th>TRB</th>\n",
       "      <th>AST</th>\n",
       "      <th>STL</th>\n",
       "      <th>BLK</th>\n",
       "      <th>TOV</th>\n",
       "      <th>PF</th>\n",
       "      <th>PTS</th>\n",
       "      <th>Awards</th>\n",
       "    </tr>\n",
       "    <tr>\n",
       "      <th>Rk</th>\n",
       "      <th></th>\n",
       "      <th></th>\n",
       "      <th></th>\n",
       "      <th></th>\n",
       "      <th></th>\n",
       "      <th></th>\n",
       "      <th></th>\n",
       "      <th></th>\n",
       "      <th></th>\n",
       "      <th></th>\n",
       "      <th></th>\n",
       "      <th></th>\n",
       "      <th></th>\n",
       "      <th></th>\n",
       "      <th></th>\n",
       "      <th></th>\n",
       "      <th></th>\n",
       "      <th></th>\n",
       "      <th></th>\n",
       "      <th></th>\n",
       "      <th></th>\n",
       "    </tr>\n",
       "  </thead>\n",
       "  <tbody>\n",
       "    <tr>\n",
       "      <th>1</th>\n",
       "      <td>Joel Embiid</td>\n",
       "      <td>27</td>\n",
       "      <td>PHI</td>\n",
       "      <td>C</td>\n",
       "      <td>68</td>\n",
       "      <td>68</td>\n",
       "      <td>33.8</td>\n",
       "      <td>9.8</td>\n",
       "      <td>19.6</td>\n",
       "      <td>0.499</td>\n",
       "      <td>...</td>\n",
       "      <td>2.1</td>\n",
       "      <td>9.6</td>\n",
       "      <td>11.7</td>\n",
       "      <td>4.2</td>\n",
       "      <td>1.1</td>\n",
       "      <td>1.5</td>\n",
       "      <td>3.1</td>\n",
       "      <td>2.7</td>\n",
       "      <td>30.6</td>\n",
       "      <td>MVP-2,AS,NBA2</td>\n",
       "    </tr>\n",
       "    <tr>\n",
       "      <th>2</th>\n",
       "      <td>LeBron James</td>\n",
       "      <td>37</td>\n",
       "      <td>LAL</td>\n",
       "      <td>C</td>\n",
       "      <td>56</td>\n",
       "      <td>56</td>\n",
       "      <td>37.2</td>\n",
       "      <td>11.4</td>\n",
       "      <td>21.8</td>\n",
       "      <td>0.524</td>\n",
       "      <td>...</td>\n",
       "      <td>1.1</td>\n",
       "      <td>7.1</td>\n",
       "      <td>8.2</td>\n",
       "      <td>6.2</td>\n",
       "      <td>1.3</td>\n",
       "      <td>1.1</td>\n",
       "      <td>3.5</td>\n",
       "      <td>2.2</td>\n",
       "      <td>30.3</td>\n",
       "      <td>MVP-10,AS,NBA3</td>\n",
       "    </tr>\n",
       "    <tr>\n",
       "      <th>3</th>\n",
       "      <td>Giannis Antetokounmpo</td>\n",
       "      <td>27</td>\n",
       "      <td>MIL</td>\n",
       "      <td>PF</td>\n",
       "      <td>67</td>\n",
       "      <td>67</td>\n",
       "      <td>32.9</td>\n",
       "      <td>10.3</td>\n",
       "      <td>18.6</td>\n",
       "      <td>0.553</td>\n",
       "      <td>...</td>\n",
       "      <td>2.0</td>\n",
       "      <td>9.6</td>\n",
       "      <td>11.6</td>\n",
       "      <td>5.8</td>\n",
       "      <td>1.1</td>\n",
       "      <td>1.4</td>\n",
       "      <td>3.3</td>\n",
       "      <td>3.2</td>\n",
       "      <td>29.9</td>\n",
       "      <td>MVP-3,DPOY-6,AS,NBA1</td>\n",
       "    </tr>\n",
       "    <tr>\n",
       "      <th>4</th>\n",
       "      <td>Kevin Durant</td>\n",
       "      <td>33</td>\n",
       "      <td>BRK</td>\n",
       "      <td>PF</td>\n",
       "      <td>55</td>\n",
       "      <td>55</td>\n",
       "      <td>37.2</td>\n",
       "      <td>10.5</td>\n",
       "      <td>20.3</td>\n",
       "      <td>0.518</td>\n",
       "      <td>...</td>\n",
       "      <td>0.5</td>\n",
       "      <td>6.9</td>\n",
       "      <td>7.4</td>\n",
       "      <td>6.4</td>\n",
       "      <td>0.9</td>\n",
       "      <td>0.9</td>\n",
       "      <td>3.5</td>\n",
       "      <td>2.1</td>\n",
       "      <td>29.9</td>\n",
       "      <td>MVP-10,AS,NBA2</td>\n",
       "    </tr>\n",
       "    <tr>\n",
       "      <th>5</th>\n",
       "      <td>Luka Dončić</td>\n",
       "      <td>22</td>\n",
       "      <td>DAL</td>\n",
       "      <td>PG</td>\n",
       "      <td>65</td>\n",
       "      <td>65</td>\n",
       "      <td>35.4</td>\n",
       "      <td>9.9</td>\n",
       "      <td>21.6</td>\n",
       "      <td>0.457</td>\n",
       "      <td>...</td>\n",
       "      <td>0.9</td>\n",
       "      <td>8.3</td>\n",
       "      <td>9.1</td>\n",
       "      <td>8.7</td>\n",
       "      <td>1.2</td>\n",
       "      <td>0.6</td>\n",
       "      <td>4.5</td>\n",
       "      <td>2.2</td>\n",
       "      <td>28.4</td>\n",
       "      <td>MVP-5,AS,NBA1</td>\n",
       "    </tr>\n",
       "  </tbody>\n",
       "</table>\n",
       "<p>5 rows × 30 columns</p>\n",
       "</div>"
      ],
      "text/plain": [
       "                   Player  Age Team Pos   G  GS    MP    FG   FGA    FG%  ...  \\\n",
       "Rk                                                                        ...   \n",
       "1             Joel Embiid   27  PHI   C  68  68  33.8   9.8  19.6  0.499  ...   \n",
       "2            LeBron James   37  LAL   C  56  56  37.2  11.4  21.8  0.524  ...   \n",
       "3   Giannis Antetokounmpo   27  MIL  PF  67  67  32.9  10.3  18.6  0.553  ...   \n",
       "4            Kevin Durant   33  BRK  PF  55  55  37.2  10.5  20.3  0.518  ...   \n",
       "5             Luka Dončić   22  DAL  PG  65  65  35.4   9.9  21.6  0.457  ...   \n",
       "\n",
       "    ORB  DRB   TRB  AST  STL  BLK  TOV   PF   PTS                Awards  \n",
       "Rk                                                                       \n",
       "1   2.1  9.6  11.7  4.2  1.1  1.5  3.1  2.7  30.6         MVP-2,AS,NBA2  \n",
       "2   1.1  7.1   8.2  6.2  1.3  1.1  3.5  2.2  30.3        MVP-10,AS,NBA3  \n",
       "3   2.0  9.6  11.6  5.8  1.1  1.4  3.3  3.2  29.9  MVP-3,DPOY-6,AS,NBA1  \n",
       "4   0.5  6.9   7.4  6.4  0.9  0.9  3.5  2.1  29.9        MVP-10,AS,NBA2  \n",
       "5   0.9  8.3   9.1  8.7  1.2  0.6  4.5  2.2  28.4         MVP-5,AS,NBA1  \n",
       "\n",
       "[5 rows x 30 columns]"
      ]
     },
     "execution_count": 160,
     "metadata": {},
     "output_type": "execute_result"
    }
   ],
   "source": [
    "df_2022.head()"
   ]
  },
  {
   "cell_type": "code",
   "execution_count": 161,
   "id": "14b5f520",
   "metadata": {},
   "outputs": [],
   "source": [
    "df_2022['AllStar'] = df_2022['Awards'].apply(lambda x: 1 if 'AS' in str(x) else 0)"
   ]
  },
  {
   "cell_type": "code",
   "execution_count": 162,
   "id": "6be7689e",
   "metadata": {},
   "outputs": [],
   "source": [
    "df_2022 = df_2022.drop(columns=['Age','ORB','DRB','FGA','3PA','2PA','FTA','Pos','PF','Awards'])"
   ]
  },
  {
   "cell_type": "code",
   "execution_count": 163,
   "id": "de1896bc",
   "metadata": {},
   "outputs": [],
   "source": [
    "# Identifying players with multiple entries\n",
    "multiple_team_entries_2022 = df_2022[df_2022['Team'].str.contains('TM')]\n",
    "\n",
    "# Grabbing list of players who have aggregated rows (Team name is listed as 2TM or 3TM)\n",
    "players_with_multiple_teams_2022 = multiple_team_entries_2022['Player'].unique()\n",
    "\n",
    "# Keep only the aggregated rows\n",
    "df_2022_cleaned = df_2022[(df_2022['Player'].isin(players_with_multiple_teams_2022)) & \n",
    "                          (df_2022['Team'].str.contains('TM'))]\n",
    "\n",
    "# Include players with single entries\n",
    "single_team_players_2022 = df_2022[~df_2022['Player'].isin(players_with_multiple_teams_2022)]\n",
    "\n",
    "# Combine our dataframes\n",
    "df_2022 = pd.concat([df_2022_cleaned, single_team_players_2022], ignore_index=True)"
   ]
  },
  {
   "cell_type": "code",
   "execution_count": 164,
   "id": "cfd05b48",
   "metadata": {},
   "outputs": [],
   "source": [
    "corr_2022 = df_2022[['G', 'GS', 'MP', 'FG', 'FG%', '3P', '3P%', '2P','2P%', 'eFG%', 'FT', 'FT%', 'TRB', 'AST', 'STL', 'BLK', 'TOV', 'PTS','AllStar']].corr()"
   ]
  },
  {
   "cell_type": "code",
   "execution_count": 165,
   "id": "01d900a6",
   "metadata": {},
   "outputs": [
    {
     "data": {
      "text/plain": [
       "<Axes: >"
      ]
     },
     "execution_count": 165,
     "metadata": {},
     "output_type": "execute_result"
    },
    {
     "data": {
      "image/png": "[encoded data removed]",
      "text/plain": [
       "<Figure size 640x480 with 2 Axes>"
      ]
     },
     "metadata": {},
     "output_type": "display_data"
    }
   ],
   "source": [
    "sns.heatmap(corr_2022, annot=True, cmap='coolwarm')"
   ]
  },
  {
   "cell_type": "markdown",
   "id": "02ac7e1d",
   "metadata": {},
   "source": [
    "Here we can see that Assists have a higher correlation with All-Star selection compared to the previous year, so it is good we chose it as a feature earlier."
   ]
  },
  {
   "cell_type": "code",
   "execution_count": 166,
   "id": "99bc4b18",
   "metadata": {},
   "outputs": [],
   "source": [
    "target_features_2022 = df_2022[['Player','PTS','AST','TRB','STL','TOV','FT','2P','FG','AllStar']]"
   ]
  },
  {
   "cell_type": "code",
   "execution_count": 167,
   "id": "3000ddc6",
   "metadata": {},
   "outputs": [
    {
     "data": {
      "text/html": [
       "<div>\n",
       "<style scoped>\n",
       "    .dataframe tbody tr th:only-of-type {\n",
       "        vertical-align: middle;\n",
       "    }\n",
       "\n",
       "    .dataframe tbody tr th {\n",
       "        vertical-align: top;\n",
       "    }\n",
       "\n",
       "    .dataframe thead th {\n",
       "        text-align: right;\n",
       "    }\n",
       "</style>\n",
       "<table border=\"1\" class=\"dataframe\">\n",
       "  <thead>\n",
       "    <tr style=\"text-align: right;\">\n",
       "      <th></th>\n",
       "      <th>Player</th>\n",
       "      <th>PTS</th>\n",
       "      <th>AST</th>\n",
       "      <th>TRB</th>\n",
       "      <th>STL</th>\n",
       "      <th>TOV</th>\n",
       "      <th>FT</th>\n",
       "      <th>2P</th>\n",
       "      <th>FG</th>\n",
       "      <th>AllStar</th>\n",
       "    </tr>\n",
       "  </thead>\n",
       "  <tbody>\n",
       "    <tr>\n",
       "      <th>0</th>\n",
       "      <td>CJ McCollum</td>\n",
       "      <td>22.1</td>\n",
       "      <td>5.1</td>\n",
       "      <td>4.3</td>\n",
       "      <td>1.1</td>\n",
       "      <td>2.0</td>\n",
       "      <td>1.9</td>\n",
       "      <td>5.7</td>\n",
       "      <td>8.6</td>\n",
       "      <td>0</td>\n",
       "    </tr>\n",
       "    <tr>\n",
       "      <th>1</th>\n",
       "      <td>James Harden</td>\n",
       "      <td>22.0</td>\n",
       "      <td>10.3</td>\n",
       "      <td>7.7</td>\n",
       "      <td>1.3</td>\n",
       "      <td>4.4</td>\n",
       "      <td>7.2</td>\n",
       "      <td>4.0</td>\n",
       "      <td>6.3</td>\n",
       "      <td>1</td>\n",
       "    </tr>\n",
       "    <tr>\n",
       "      <th>2</th>\n",
       "      <td>Kristaps Porziņģis</td>\n",
       "      <td>20.2</td>\n",
       "      <td>2.3</td>\n",
       "      <td>8.1</td>\n",
       "      <td>0.7</td>\n",
       "      <td>1.6</td>\n",
       "      <td>4.9</td>\n",
       "      <td>5.4</td>\n",
       "      <td>6.9</td>\n",
       "      <td>0</td>\n",
       "    </tr>\n",
       "    <tr>\n",
       "      <th>3</th>\n",
       "      <td>Norman Powell</td>\n",
       "      <td>19.0</td>\n",
       "      <td>2.1</td>\n",
       "      <td>3.2</td>\n",
       "      <td>0.9</td>\n",
       "      <td>1.5</td>\n",
       "      <td>4.2</td>\n",
       "      <td>3.8</td>\n",
       "      <td>6.2</td>\n",
       "      <td>0</td>\n",
       "    </tr>\n",
       "    <tr>\n",
       "      <th>4</th>\n",
       "      <td>Domantas Sabonis</td>\n",
       "      <td>18.9</td>\n",
       "      <td>5.2</td>\n",
       "      <td>12.1</td>\n",
       "      <td>1.0</td>\n",
       "      <td>3.1</td>\n",
       "      <td>4.0</td>\n",
       "      <td>6.5</td>\n",
       "      <td>7.1</td>\n",
       "      <td>0</td>\n",
       "    </tr>\n",
       "  </tbody>\n",
       "</table>\n",
       "</div>"
      ],
      "text/plain": [
       "               Player   PTS   AST   TRB  STL  TOV   FT   2P   FG  AllStar\n",
       "0         CJ McCollum  22.1   5.1   4.3  1.1  2.0  1.9  5.7  8.6        0\n",
       "1        James Harden  22.0  10.3   7.7  1.3  4.4  7.2  4.0  6.3        1\n",
       "2  Kristaps Porziņģis  20.2   2.3   8.1  0.7  1.6  4.9  5.4  6.9        0\n",
       "3       Norman Powell  19.0   2.1   3.2  0.9  1.5  4.2  3.8  6.2        0\n",
       "4    Domantas Sabonis  18.9   5.2  12.1  1.0  3.1  4.0  6.5  7.1        0"
      ]
     },
     "execution_count": 167,
     "metadata": {},
     "output_type": "execute_result"
    }
   ],
   "source": [
    "target_features_2022.head()"
   ]
  },
  {
   "cell_type": "markdown",
   "id": "fbb4b477",
   "metadata": {},
   "source": [
    "### Data Source #3"
   ]
  },
  {
   "cell_type": "code",
   "execution_count": 168,
   "id": "cf5ffc4e",
   "metadata": {},
   "outputs": [],
   "source": [
    "df_2023 = pd.read_excel(\"C:/Users/14699/nba-allstar-prediction/2022-2023.xlsx\", index_col=0)"
   ]
  },
  {
   "cell_type": "code",
   "execution_count": 169,
   "id": "dcf7b91c",
   "metadata": {},
   "outputs": [
    {
     "data": {
      "text/html": [
       "<div>\n",
       "<style scoped>\n",
       "    .dataframe tbody tr th:only-of-type {\n",
       "        vertical-align: middle;\n",
       "    }\n",
       "\n",
       "    .dataframe tbody tr th {\n",
       "        vertical-align: top;\n",
       "    }\n",
       "\n",
       "    .dataframe thead th {\n",
       "        text-align: right;\n",
       "    }\n",
       "</style>\n",
       "<table border=\"1\" class=\"dataframe\">\n",
       "  <thead>\n",
       "    <tr style=\"text-align: right;\">\n",
       "      <th></th>\n",
       "      <th>Player</th>\n",
       "      <th>Age</th>\n",
       "      <th>Team</th>\n",
       "      <th>Pos</th>\n",
       "      <th>G</th>\n",
       "      <th>GS</th>\n",
       "      <th>MP</th>\n",
       "      <th>FG</th>\n",
       "      <th>FGA</th>\n",
       "      <th>FG%</th>\n",
       "      <th>...</th>\n",
       "      <th>ORB</th>\n",
       "      <th>DRB</th>\n",
       "      <th>TRB</th>\n",
       "      <th>AST</th>\n",
       "      <th>STL</th>\n",
       "      <th>BLK</th>\n",
       "      <th>TOV</th>\n",
       "      <th>PF</th>\n",
       "      <th>PTS</th>\n",
       "      <th>Awards</th>\n",
       "    </tr>\n",
       "    <tr>\n",
       "      <th>Rk</th>\n",
       "      <th></th>\n",
       "      <th></th>\n",
       "      <th></th>\n",
       "      <th></th>\n",
       "      <th></th>\n",
       "      <th></th>\n",
       "      <th></th>\n",
       "      <th></th>\n",
       "      <th></th>\n",
       "      <th></th>\n",
       "      <th></th>\n",
       "      <th></th>\n",
       "      <th></th>\n",
       "      <th></th>\n",
       "      <th></th>\n",
       "      <th></th>\n",
       "      <th></th>\n",
       "      <th></th>\n",
       "      <th></th>\n",
       "      <th></th>\n",
       "      <th></th>\n",
       "    </tr>\n",
       "  </thead>\n",
       "  <tbody>\n",
       "    <tr>\n",
       "      <th>1</th>\n",
       "      <td>Joel Embiid</td>\n",
       "      <td>28</td>\n",
       "      <td>PHI</td>\n",
       "      <td>C</td>\n",
       "      <td>66</td>\n",
       "      <td>66</td>\n",
       "      <td>34.6</td>\n",
       "      <td>11.0</td>\n",
       "      <td>20.1</td>\n",
       "      <td>0.548</td>\n",
       "      <td>...</td>\n",
       "      <td>1.7</td>\n",
       "      <td>8.4</td>\n",
       "      <td>10.2</td>\n",
       "      <td>4.2</td>\n",
       "      <td>1.0</td>\n",
       "      <td>1.7</td>\n",
       "      <td>3.4</td>\n",
       "      <td>3.1</td>\n",
       "      <td>33.1</td>\n",
       "      <td>MVP-1,DPOY-9,CPOY-5,AS,NBA1</td>\n",
       "    </tr>\n",
       "    <tr>\n",
       "      <th>2</th>\n",
       "      <td>Luka Dončić</td>\n",
       "      <td>23</td>\n",
       "      <td>DAL</td>\n",
       "      <td>PG</td>\n",
       "      <td>66</td>\n",
       "      <td>66</td>\n",
       "      <td>36.2</td>\n",
       "      <td>10.9</td>\n",
       "      <td>22.0</td>\n",
       "      <td>0.496</td>\n",
       "      <td>...</td>\n",
       "      <td>0.8</td>\n",
       "      <td>7.8</td>\n",
       "      <td>8.6</td>\n",
       "      <td>8.0</td>\n",
       "      <td>1.4</td>\n",
       "      <td>0.5</td>\n",
       "      <td>3.6</td>\n",
       "      <td>2.5</td>\n",
       "      <td>32.4</td>\n",
       "      <td>MVP-8,CPOY-8,AS,NBA1</td>\n",
       "    </tr>\n",
       "    <tr>\n",
       "      <th>3</th>\n",
       "      <td>Damian Lillard</td>\n",
       "      <td>32</td>\n",
       "      <td>POR</td>\n",
       "      <td>PG</td>\n",
       "      <td>58</td>\n",
       "      <td>58</td>\n",
       "      <td>36.3</td>\n",
       "      <td>9.6</td>\n",
       "      <td>20.7</td>\n",
       "      <td>0.463</td>\n",
       "      <td>...</td>\n",
       "      <td>0.8</td>\n",
       "      <td>4.0</td>\n",
       "      <td>4.8</td>\n",
       "      <td>7.3</td>\n",
       "      <td>0.9</td>\n",
       "      <td>0.3</td>\n",
       "      <td>3.3</td>\n",
       "      <td>1.9</td>\n",
       "      <td>32.2</td>\n",
       "      <td>CPOY-10,AS,NBA3</td>\n",
       "    </tr>\n",
       "    <tr>\n",
       "      <th>4</th>\n",
       "      <td>Shai Gilgeous-Alexander</td>\n",
       "      <td>24</td>\n",
       "      <td>OKC</td>\n",
       "      <td>PG</td>\n",
       "      <td>68</td>\n",
       "      <td>68</td>\n",
       "      <td>35.5</td>\n",
       "      <td>10.4</td>\n",
       "      <td>20.3</td>\n",
       "      <td>0.510</td>\n",
       "      <td>...</td>\n",
       "      <td>0.9</td>\n",
       "      <td>4.0</td>\n",
       "      <td>4.8</td>\n",
       "      <td>5.5</td>\n",
       "      <td>1.6</td>\n",
       "      <td>1.0</td>\n",
       "      <td>2.8</td>\n",
       "      <td>2.8</td>\n",
       "      <td>31.4</td>\n",
       "      <td>MVP-5,CPOY-7,AS,NBA1</td>\n",
       "    </tr>\n",
       "    <tr>\n",
       "      <th>5</th>\n",
       "      <td>Giannis Antetokounmpo</td>\n",
       "      <td>28</td>\n",
       "      <td>MIL</td>\n",
       "      <td>PF</td>\n",
       "      <td>63</td>\n",
       "      <td>63</td>\n",
       "      <td>32.1</td>\n",
       "      <td>11.2</td>\n",
       "      <td>20.3</td>\n",
       "      <td>0.553</td>\n",
       "      <td>...</td>\n",
       "      <td>2.2</td>\n",
       "      <td>9.6</td>\n",
       "      <td>11.8</td>\n",
       "      <td>5.7</td>\n",
       "      <td>0.8</td>\n",
       "      <td>0.8</td>\n",
       "      <td>3.9</td>\n",
       "      <td>3.1</td>\n",
       "      <td>31.1</td>\n",
       "      <td>MVP-3,DPOY-6,AS,NBA1</td>\n",
       "    </tr>\n",
       "  </tbody>\n",
       "</table>\n",
       "<p>5 rows × 30 columns</p>\n",
       "</div>"
      ],
      "text/plain": [
       "                     Player  Age Team Pos   G  GS    MP    FG   FGA    FG%  \\\n",
       "Rk                                                                           \n",
       "1               Joel Embiid   28  PHI   C  66  66  34.6  11.0  20.1  0.548   \n",
       "2               Luka Dončić   23  DAL  PG  66  66  36.2  10.9  22.0  0.496   \n",
       "3            Damian Lillard   32  POR  PG  58  58  36.3   9.6  20.7  0.463   \n",
       "4   Shai Gilgeous-Alexander   24  OKC  PG  68  68  35.5  10.4  20.3  0.510   \n",
       "5     Giannis Antetokounmpo   28  MIL  PF  63  63  32.1  11.2  20.3  0.553   \n",
       "\n",
       "    ...  ORB  DRB   TRB  AST  STL  BLK  TOV   PF   PTS  \\\n",
       "Rk  ...                                                  \n",
       "1   ...  1.7  8.4  10.2  4.2  1.0  1.7  3.4  3.1  33.1   \n",
       "2   ...  0.8  7.8   8.6  8.0  1.4  0.5  3.6  2.5  32.4   \n",
       "3   ...  0.8  4.0   4.8  7.3  0.9  0.3  3.3  1.9  32.2   \n",
       "4   ...  0.9  4.0   4.8  5.5  1.6  1.0  2.8  2.8  31.4   \n",
       "5   ...  2.2  9.6  11.8  5.7  0.8  0.8  3.9  3.1  31.1   \n",
       "\n",
       "                         Awards  \n",
       "Rk                               \n",
       "1   MVP-1,DPOY-9,CPOY-5,AS,NBA1  \n",
       "2          MVP-8,CPOY-8,AS,NBA1  \n",
       "3               CPOY-10,AS,NBA3  \n",
       "4          MVP-5,CPOY-7,AS,NBA1  \n",
       "5          MVP-3,DPOY-6,AS,NBA1  \n",
       "\n",
       "[5 rows x 30 columns]"
      ]
     },
     "execution_count": 169,
     "metadata": {},
     "output_type": "execute_result"
    }
   ],
   "source": [
    "df_2023.head()"
   ]
  },
  {
   "cell_type": "code",
   "execution_count": 170,
   "id": "d85e2e23",
   "metadata": {},
   "outputs": [],
   "source": [
    "df_2023['AllStar'] = df_2023['Awards'].apply(lambda x: 1 if 'AS' in str(x) else 0)"
   ]
  },
  {
   "cell_type": "code",
   "execution_count": 171,
   "id": "612cffe7",
   "metadata": {},
   "outputs": [],
   "source": [
    "df_2023 = df_2023.drop(columns=['Age','ORB','DRB','FGA','3PA','2PA','FTA','Pos','PF','Awards'])"
   ]
  },
  {
   "cell_type": "code",
   "execution_count": 172,
   "id": "31e5a45a",
   "metadata": {},
   "outputs": [],
   "source": [
    "# Identifying players with multiple entries\n",
    "multiple_team_entries_2023 = df_2023[df_2023['Team'].str.contains('TM')]\n",
    "\n",
    "# Grabbing list of players who have aggregated rows (Team name is listed as 2TM or 3TM)\n",
    "players_with_multiple_teams_2023 = multiple_team_entries_2023['Player'].unique()\n",
    "\n",
    "# Keep only the aggregated rows\n",
    "df_2023_cleaned = df_2023[(df_2023['Player'].isin(players_with_multiple_teams_2023)) & \n",
    "                          (df_2023['Team'].str.contains('TM'))]\n",
    "\n",
    "# Include players with single entries\n",
    "single_team_players_2023 = df_2023[~df_2023['Player'].isin(players_with_multiple_teams_2023)]\n",
    "\n",
    "# Combine our dataframes\n",
    "df_2023 = pd.concat([df_2023_cleaned, single_team_players_2023], ignore_index=True)"
   ]
  },
  {
   "cell_type": "code",
   "execution_count": 173,
   "id": "a62a4df1",
   "metadata": {},
   "outputs": [],
   "source": [
    "corr_2023 = df_2023[['G', 'GS', 'MP', 'FG', 'FG%', '3P', '3P%', '2P','2P%', 'eFG%', 'FT', 'FT%', 'TRB', 'AST', 'STL', 'BLK', 'TOV', 'PTS','AllStar']].corr()"
   ]
  },
  {
   "cell_type": "code",
   "execution_count": 174,
   "id": "6f5a8b89",
   "metadata": {},
   "outputs": [
    {
     "data": {
      "text/plain": [
       "<Axes: >"
      ]
     },
     "execution_count": 174,
     "metadata": {},
     "output_type": "execute_result"
    },
    {
     "data": {
      "image/png": "[encoded data removed]",
      "text/plain": [
       "<Figure size 640x480 with 2 Axes>"
      ]
     },
     "metadata": {},
     "output_type": "display_data"
    }
   ],
   "source": [
    "sns.heatmap(corr_2023, annot=True, cmap='coolwarm')"
   ]
  },
  {
   "cell_type": "code",
   "execution_count": 175,
   "id": "3b1ff3ff",
   "metadata": {},
   "outputs": [],
   "source": [
    "target_features_2023 = df_2023[['Player','PTS','AST','TRB','STL','TOV','FT','2P','FG','AllStar']]"
   ]
  },
  {
   "cell_type": "code",
   "execution_count": 176,
   "id": "7415e00e",
   "metadata": {},
   "outputs": [
    {
     "data": {
      "text/html": [
       "<div>\n",
       "<style scoped>\n",
       "    .dataframe tbody tr th:only-of-type {\n",
       "        vertical-align: middle;\n",
       "    }\n",
       "\n",
       "    .dataframe tbody tr th {\n",
       "        vertical-align: top;\n",
       "    }\n",
       "\n",
       "    .dataframe thead th {\n",
       "        text-align: right;\n",
       "    }\n",
       "</style>\n",
       "<table border=\"1\" class=\"dataframe\">\n",
       "  <thead>\n",
       "    <tr style=\"text-align: right;\">\n",
       "      <th></th>\n",
       "      <th>Player</th>\n",
       "      <th>PTS</th>\n",
       "      <th>AST</th>\n",
       "      <th>TRB</th>\n",
       "      <th>STL</th>\n",
       "      <th>TOV</th>\n",
       "      <th>FT</th>\n",
       "      <th>2P</th>\n",
       "      <th>FG</th>\n",
       "      <th>AllStar</th>\n",
       "    </tr>\n",
       "  </thead>\n",
       "  <tbody>\n",
       "    <tr>\n",
       "      <th>0</th>\n",
       "      <td>Kevin Durant</td>\n",
       "      <td>29.1</td>\n",
       "      <td>5.0</td>\n",
       "      <td>6.7</td>\n",
       "      <td>0.7</td>\n",
       "      <td>3.3</td>\n",
       "      <td>6.5</td>\n",
       "      <td>8.3</td>\n",
       "      <td>10.3</td>\n",
       "      <td>1</td>\n",
       "    </tr>\n",
       "    <tr>\n",
       "      <th>1</th>\n",
       "      <td>Kyrie Irving</td>\n",
       "      <td>27.1</td>\n",
       "      <td>5.5</td>\n",
       "      <td>5.1</td>\n",
       "      <td>1.1</td>\n",
       "      <td>2.1</td>\n",
       "      <td>4.1</td>\n",
       "      <td>6.8</td>\n",
       "      <td>9.9</td>\n",
       "      <td>1</td>\n",
       "    </tr>\n",
       "    <tr>\n",
       "      <th>2</th>\n",
       "      <td>Mikal Bridges</td>\n",
       "      <td>20.1</td>\n",
       "      <td>3.3</td>\n",
       "      <td>4.4</td>\n",
       "      <td>1.1</td>\n",
       "      <td>1.5</td>\n",
       "      <td>3.8</td>\n",
       "      <td>5.1</td>\n",
       "      <td>7.1</td>\n",
       "      <td>0</td>\n",
       "    </tr>\n",
       "    <tr>\n",
       "      <th>3</th>\n",
       "      <td>D'Angelo Russell</td>\n",
       "      <td>17.8</td>\n",
       "      <td>6.2</td>\n",
       "      <td>3.0</td>\n",
       "      <td>1.0</td>\n",
       "      <td>2.6</td>\n",
       "      <td>2.5</td>\n",
       "      <td>3.5</td>\n",
       "      <td>6.3</td>\n",
       "      <td>0</td>\n",
       "    </tr>\n",
       "    <tr>\n",
       "      <th>4</th>\n",
       "      <td>Spencer Dinwiddie</td>\n",
       "      <td>17.3</td>\n",
       "      <td>6.5</td>\n",
       "      <td>3.4</td>\n",
       "      <td>0.8</td>\n",
       "      <td>1.8</td>\n",
       "      <td>3.4</td>\n",
       "      <td>3.5</td>\n",
       "      <td>5.8</td>\n",
       "      <td>0</td>\n",
       "    </tr>\n",
       "  </tbody>\n",
       "</table>\n",
       "</div>"
      ],
      "text/plain": [
       "              Player   PTS  AST  TRB  STL  TOV   FT   2P    FG  AllStar\n",
       "0       Kevin Durant  29.1  5.0  6.7  0.7  3.3  6.5  8.3  10.3        1\n",
       "1       Kyrie Irving  27.1  5.5  5.1  1.1  2.1  4.1  6.8   9.9        1\n",
       "2      Mikal Bridges  20.1  3.3  4.4  1.1  1.5  3.8  5.1   7.1        0\n",
       "3   D'Angelo Russell  17.8  6.2  3.0  1.0  2.6  2.5  3.5   6.3        0\n",
       "4  Spencer Dinwiddie  17.3  6.5  3.4  0.8  1.8  3.4  3.5   5.8        0"
      ]
     },
     "execution_count": 176,
     "metadata": {},
     "output_type": "execute_result"
    }
   ],
   "source": [
    "target_features_2023.head()"
   ]
  },
  {
   "cell_type": "code",
   "execution_count": null,
   "id": "8340c0a6",
   "metadata": {},
   "outputs": [],
   "source": []
  }
 ],
 "metadata": {
  "kernelspec": {
   "display_name": "Python 3 (ipykernel)",
   "language": "python",
   "name": "python3"
  },
  "language_info": {
   "codemirror_mode": {
    "name": "ipython",
    "version": 3
   },
   "file_extension": ".py",
   "mimetype": "text/x-python",
   "name": "python",
   "nbconvert_exporter": "python",
   "pygments_lexer": "ipython3",
   "version": "3.11.7"
  }
 },
 "nbformat": 4,
 "nbformat_minor": 5
}
